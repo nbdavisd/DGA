{
 "cells": [
  {
   "cell_type": "code",
   "execution_count": 9,
   "metadata": {
    "collapsed": true
   },
   "outputs": [],
   "source": [
    "import pandas as pd\n",
    "import matplotlib.pyplot as plt\n",
    "import seaborn as sns"
   ]
  },
  {
   "cell_type": "markdown",
   "metadata": {},
   "source": [
    "### Carga de archivos\n"
   ]
  },
  {
   "cell_type": "code",
   "execution_count": 5,
   "metadata": {
    "collapsed": true
   },
   "outputs": [],
   "source": [
    "assignments = pd.read_csv('assignments.csv', sep=',')\n",
    "contacts = pd.read_csv('contacts.csv', sep = ',')"
   ]
  },
  {
   "cell_type": "markdown",
   "metadata": {},
   "source": [
    "#### Se procede a familiarizarse con la data cargada"
   ]
  },
  {
   "cell_type": "code",
   "execution_count": 6,
   "metadata": {},
   "outputs": [
    {
     "data": {
      "text/html": [
       "<div>\n",
       "<style>\n",
       "    .dataframe thead tr:only-child th {\n",
       "        text-align: right;\n",
       "    }\n",
       "\n",
       "    .dataframe thead th {\n",
       "        text-align: left;\n",
       "    }\n",
       "\n",
       "    .dataframe tbody tr th {\n",
       "        vertical-align: top;\n",
       "    }\n",
       "</style>\n",
       "<table border=\"1\" class=\"dataframe\">\n",
       "  <thead>\n",
       "    <tr style=\"text-align: right;\">\n",
       "      <th></th>\n",
       "      <th>id_user_anon</th>\n",
       "      <th>ab</th>\n",
       "    </tr>\n",
       "  </thead>\n",
       "  <tbody>\n",
       "    <tr>\n",
       "      <th>0</th>\n",
       "      <td>3e3b1bc7-9c46-4798-b955-8ed3f6bdf841</td>\n",
       "      <td>treatment</td>\n",
       "    </tr>\n",
       "    <tr>\n",
       "      <th>1</th>\n",
       "      <td>99fef26b-5b8c-4d96-b6f4-552a951512d6</td>\n",
       "      <td>treatment</td>\n",
       "    </tr>\n",
       "    <tr>\n",
       "      <th>2</th>\n",
       "      <td>25886018-ed8c-4c40-9915-ead001e2c021</td>\n",
       "      <td>control</td>\n",
       "    </tr>\n",
       "    <tr>\n",
       "      <th>3</th>\n",
       "      <td>f7e16080-c7ae-4e46-8247-26f92d4495a6</td>\n",
       "      <td>treatment</td>\n",
       "    </tr>\n",
       "    <tr>\n",
       "      <th>4</th>\n",
       "      <td>9c2d741a-acfe-4728-ba3b-0571bfd82306</td>\n",
       "      <td>treatment</td>\n",
       "    </tr>\n",
       "  </tbody>\n",
       "</table>\n",
       "</div>"
      ],
      "text/plain": [
       "                           id_user_anon         ab\n",
       "0  3e3b1bc7-9c46-4798-b955-8ed3f6bdf841  treatment\n",
       "1  99fef26b-5b8c-4d96-b6f4-552a951512d6  treatment\n",
       "2  25886018-ed8c-4c40-9915-ead001e2c021    control\n",
       "3  f7e16080-c7ae-4e46-8247-26f92d4495a6  treatment\n",
       "4  9c2d741a-acfe-4728-ba3b-0571bfd82306  treatment"
      ]
     },
     "execution_count": 6,
     "metadata": {},
     "output_type": "execute_result"
    }
   ],
   "source": [
    "assignments.head()"
   ]
  },
  {
   "cell_type": "code",
   "execution_count": 10,
   "metadata": {
    "scrolled": true
   },
   "outputs": [
    {
     "data": {
      "text/html": [
       "<div>\n",
       "<style>\n",
       "    .dataframe thead tr:only-child th {\n",
       "        text-align: right;\n",
       "    }\n",
       "\n",
       "    .dataframe thead th {\n",
       "        text-align: left;\n",
       "    }\n",
       "\n",
       "    .dataframe tbody tr th {\n",
       "        vertical-align: top;\n",
       "    }\n",
       "</style>\n",
       "<table border=\"1\" class=\"dataframe\">\n",
       "  <thead>\n",
       "    <tr style=\"text-align: right;\">\n",
       "      <th></th>\n",
       "      <th>id_guest_anon</th>\n",
       "      <th>id_host_anon</th>\n",
       "      <th>id_listing_anon</th>\n",
       "      <th>ts_interaction_first</th>\n",
       "      <th>ts_reply_at_first</th>\n",
       "      <th>ts_accepted_at_first</th>\n",
       "      <th>ts_booking_at</th>\n",
       "      <th>ds_checkin_first</th>\n",
       "      <th>ds_checkout_first</th>\n",
       "      <th>m_guests_first</th>\n",
       "      <th>m_interactions</th>\n",
       "      <th>m_first_message_length_in_characters</th>\n",
       "      <th>dim_contact_channel_first</th>\n",
       "      <th>dim_room_type</th>\n",
       "      <th>dim_total_reviews</th>\n",
       "      <th>dim_person_capacity</th>\n",
       "      <th>dim_guest_language</th>\n",
       "      <th>dim_host_language</th>\n",
       "    </tr>\n",
       "  </thead>\n",
       "  <tbody>\n",
       "    <tr>\n",
       "      <th>0</th>\n",
       "      <td>56d70d7c-1d0a-4594-a250-ed62f7cf7ac4</td>\n",
       "      <td>65a56b50-faf2-44a2-845f-0c467f41d720</td>\n",
       "      <td>4deeb033-183e-437c-b94c-851ffee8cec8</td>\n",
       "      <td>2013-01-13 21:03:07.0</td>\n",
       "      <td>2013-01-14 21:19:42.0</td>\n",
       "      <td>2013-01-14 21:19:42.0</td>\n",
       "      <td>2013-01-14 21:19:42.0</td>\n",
       "      <td>2013-01-18</td>\n",
       "      <td>2013-01-20</td>\n",
       "      <td>2.0</td>\n",
       "      <td>13</td>\n",
       "      <td>165.0</td>\n",
       "      <td>book_it</td>\n",
       "      <td>Private room</td>\n",
       "      <td>78</td>\n",
       "      <td>2</td>\n",
       "      <td>NaN</td>\n",
       "      <td>es</td>\n",
       "    </tr>\n",
       "    <tr>\n",
       "      <th>1</th>\n",
       "      <td>dcfb93c4-07ca-41e8-b134-89b49ddc7a36</td>\n",
       "      <td>65a56b50-faf2-44a2-845f-0c467f41d720</td>\n",
       "      <td>4deeb033-183e-437c-b94c-851ffee8cec8</td>\n",
       "      <td>2013-01-15 23:43:49.0</td>\n",
       "      <td>2013-01-16 09:04:37.0</td>\n",
       "      <td>2013-01-16 09:04:37.0</td>\n",
       "      <td>2013-01-16 09:04:37.0</td>\n",
       "      <td>2013-01-23</td>\n",
       "      <td>2013-01-25</td>\n",
       "      <td>2.0</td>\n",
       "      <td>5</td>\n",
       "      <td>NaN</td>\n",
       "      <td>book_it</td>\n",
       "      <td>Private room</td>\n",
       "      <td>78</td>\n",
       "      <td>2</td>\n",
       "      <td>NaN</td>\n",
       "      <td>es</td>\n",
       "    </tr>\n",
       "    <tr>\n",
       "      <th>2</th>\n",
       "      <td>aef63ee0-7fd8-449f-867d-e710c39694e1</td>\n",
       "      <td>65a56b50-faf2-44a2-845f-0c467f41d720</td>\n",
       "      <td>4deeb033-183e-437c-b94c-851ffee8cec8</td>\n",
       "      <td>2013-03-19 21:30:13.0</td>\n",
       "      <td>2013-03-20 12:50:49.0</td>\n",
       "      <td>2013-03-20 12:50:49.0</td>\n",
       "      <td>2013-03-20 12:50:49.0</td>\n",
       "      <td>2013-05-31</td>\n",
       "      <td>2013-06-03</td>\n",
       "      <td>2.0</td>\n",
       "      <td>7</td>\n",
       "      <td>350.0</td>\n",
       "      <td>book_it</td>\n",
       "      <td>Private room</td>\n",
       "      <td>78</td>\n",
       "      <td>2</td>\n",
       "      <td>NaN</td>\n",
       "      <td>es</td>\n",
       "    </tr>\n",
       "    <tr>\n",
       "      <th>3</th>\n",
       "      <td>58788b6f-1215-40a5-8fb0-75d2e399880c</td>\n",
       "      <td>65a56b50-faf2-44a2-845f-0c467f41d720</td>\n",
       "      <td>4deeb033-183e-437c-b94c-851ffee8cec8</td>\n",
       "      <td>2013-01-03 16:32:01.0</td>\n",
       "      <td>2013-01-03 17:02:13.0</td>\n",
       "      <td>2013-01-03 17:02:53.0</td>\n",
       "      <td>2013-01-03 17:02:53.0</td>\n",
       "      <td>2013-02-09</td>\n",
       "      <td>2013-02-11</td>\n",
       "      <td>2.0</td>\n",
       "      <td>5</td>\n",
       "      <td>426.0</td>\n",
       "      <td>book_it</td>\n",
       "      <td>Private room</td>\n",
       "      <td>78</td>\n",
       "      <td>2</td>\n",
       "      <td>NaN</td>\n",
       "      <td>es</td>\n",
       "    </tr>\n",
       "    <tr>\n",
       "      <th>4</th>\n",
       "      <td>c3945c48-53b6-4e19-8bda-7d5b51d14ec1</td>\n",
       "      <td>65a56b50-faf2-44a2-845f-0c467f41d720</td>\n",
       "      <td>4deeb033-183e-437c-b94c-851ffee8cec8</td>\n",
       "      <td>2013-04-13 04:31:33.0</td>\n",
       "      <td>2013-04-13 16:43:53.0</td>\n",
       "      <td>2013-04-13 16:44:20.0</td>\n",
       "      <td>2013-04-13 16:44:20.0</td>\n",
       "      <td>2013-06-06</td>\n",
       "      <td>2013-06-08</td>\n",
       "      <td>2.0</td>\n",
       "      <td>7</td>\n",
       "      <td>239.0</td>\n",
       "      <td>book_it</td>\n",
       "      <td>Private room</td>\n",
       "      <td>78</td>\n",
       "      <td>2</td>\n",
       "      <td>NaN</td>\n",
       "      <td>es</td>\n",
       "    </tr>\n",
       "  </tbody>\n",
       "</table>\n",
       "</div>"
      ],
      "text/plain": [
       "                          id_guest_anon                          id_host_anon  \\\n",
       "0  56d70d7c-1d0a-4594-a250-ed62f7cf7ac4  65a56b50-faf2-44a2-845f-0c467f41d720   \n",
       "1  dcfb93c4-07ca-41e8-b134-89b49ddc7a36  65a56b50-faf2-44a2-845f-0c467f41d720   \n",
       "2  aef63ee0-7fd8-449f-867d-e710c39694e1  65a56b50-faf2-44a2-845f-0c467f41d720   \n",
       "3  58788b6f-1215-40a5-8fb0-75d2e399880c  65a56b50-faf2-44a2-845f-0c467f41d720   \n",
       "4  c3945c48-53b6-4e19-8bda-7d5b51d14ec1  65a56b50-faf2-44a2-845f-0c467f41d720   \n",
       "\n",
       "                        id_listing_anon   ts_interaction_first  \\\n",
       "0  4deeb033-183e-437c-b94c-851ffee8cec8  2013-01-13 21:03:07.0   \n",
       "1  4deeb033-183e-437c-b94c-851ffee8cec8  2013-01-15 23:43:49.0   \n",
       "2  4deeb033-183e-437c-b94c-851ffee8cec8  2013-03-19 21:30:13.0   \n",
       "3  4deeb033-183e-437c-b94c-851ffee8cec8  2013-01-03 16:32:01.0   \n",
       "4  4deeb033-183e-437c-b94c-851ffee8cec8  2013-04-13 04:31:33.0   \n",
       "\n",
       "       ts_reply_at_first   ts_accepted_at_first          ts_booking_at  \\\n",
       "0  2013-01-14 21:19:42.0  2013-01-14 21:19:42.0  2013-01-14 21:19:42.0   \n",
       "1  2013-01-16 09:04:37.0  2013-01-16 09:04:37.0  2013-01-16 09:04:37.0   \n",
       "2  2013-03-20 12:50:49.0  2013-03-20 12:50:49.0  2013-03-20 12:50:49.0   \n",
       "3  2013-01-03 17:02:13.0  2013-01-03 17:02:53.0  2013-01-03 17:02:53.0   \n",
       "4  2013-04-13 16:43:53.0  2013-04-13 16:44:20.0  2013-04-13 16:44:20.0   \n",
       "\n",
       "  ds_checkin_first ds_checkout_first  m_guests_first  m_interactions  \\\n",
       "0       2013-01-18        2013-01-20             2.0              13   \n",
       "1       2013-01-23        2013-01-25             2.0               5   \n",
       "2       2013-05-31        2013-06-03             2.0               7   \n",
       "3       2013-02-09        2013-02-11             2.0               5   \n",
       "4       2013-06-06        2013-06-08             2.0               7   \n",
       "\n",
       "   m_first_message_length_in_characters dim_contact_channel_first  \\\n",
       "0                                 165.0                   book_it   \n",
       "1                                   NaN                   book_it   \n",
       "2                                 350.0                   book_it   \n",
       "3                                 426.0                   book_it   \n",
       "4                                 239.0                   book_it   \n",
       "\n",
       "  dim_room_type  dim_total_reviews  dim_person_capacity  dim_guest_language  \\\n",
       "0  Private room                 78                    2                 NaN   \n",
       "1  Private room                 78                    2                 NaN   \n",
       "2  Private room                 78                    2                 NaN   \n",
       "3  Private room                 78                    2                 NaN   \n",
       "4  Private room                 78                    2                 NaN   \n",
       "\n",
       "  dim_host_language  \n",
       "0                es  \n",
       "1                es  \n",
       "2                es  \n",
       "3                es  \n",
       "4                es  "
      ]
     },
     "execution_count": 10,
     "metadata": {},
     "output_type": "execute_result"
    }
   ],
   "source": [
    "contacts.head()"
   ]
  },
  {
   "cell_type": "code",
   "execution_count": 15,
   "metadata": {
    "scrolled": true
   },
   "outputs": [
    {
     "name": "stdout",
     "output_type": "stream",
     "text": [
      "<class 'pandas.core.frame.DataFrame'>\n",
      "RangeIndex: 23143 entries, 0 to 23142\n",
      "Data columns (total 18 columns):\n",
      "id_guest_anon                           23143 non-null object\n",
      "id_host_anon                            23143 non-null object\n",
      "id_listing_anon                         23143 non-null object\n",
      "ts_interaction_first                    23143 non-null object\n",
      "ts_reply_at_first                       21751 non-null object\n",
      "ts_accepted_at_first                    16745 non-null object\n",
      "ts_booking_at                           16691 non-null object\n",
      "ds_checkin_first                        23143 non-null object\n",
      "ds_checkout_first                       23143 non-null object\n",
      "m_guests_first                          23106 non-null float64\n",
      "m_interactions                          23143 non-null int64\n",
      "m_first_message_length_in_characters    20917 non-null float64\n",
      "dim_contact_channel_first               23143 non-null object\n",
      "dim_room_type                           23143 non-null object\n",
      "dim_total_reviews                       23143 non-null int64\n",
      "dim_person_capacity                     23143 non-null int64\n",
      "dim_guest_language                      0 non-null float64\n",
      "dim_host_language                       23143 non-null object\n",
      "dtypes: float64(3), int64(3), object(12)\n",
      "memory usage: 3.2+ MB\n"
     ]
    }
   ],
   "source": [
    "contacts.info()"
   ]
  },
  {
   "cell_type": "code",
   "execution_count": 16,
   "metadata": {
    "scrolled": true
   },
   "outputs": [
    {
     "name": "stdout",
     "output_type": "stream",
     "text": [
      "<class 'pandas.core.frame.DataFrame'>\n",
      "RangeIndex: 19996 entries, 0 to 19995\n",
      "Data columns (total 2 columns):\n",
      "id_user_anon    19996 non-null object\n",
      "ab              19996 non-null object\n",
      "dtypes: object(2)\n",
      "memory usage: 312.5+ KB\n"
     ]
    }
   ],
   "source": [
    "assignments.info()"
   ]
  },
  {
   "cell_type": "markdown",
   "metadata": {},
   "source": [
    "## Grafica para conocer el numero de usuarios que utilizaron book_it o instant_booked"
   ]
  },
  {
   "cell_type": "code",
   "execution_count": 12,
   "metadata": {
    "scrolled": true
   },
   "outputs": [
    {
     "data": {
      "image/png": "[encoded data removed]",
      "text/plain": [
       "<matplotlib.figure.Figure at 0x1a17b11cf8>"
      ]
     },
     "metadata": {},
     "output_type": "display_data"
    }
   ],
   "source": [
    "sns.countplot(contacts['dim_contact_channel_first'])\n",
    "plt.show()"
   ]
  },
  {
   "cell_type": "markdown",
   "metadata": {},
   "source": [
    "Es claro que la mayor parte de los usuarios prefiere utilizar book_it y no el metodo de reserva instantanea"
   ]
  },
  {
   "cell_type": "markdown",
   "metadata": {},
   "source": [
    "# Número de usuarios que realizaron booking"
   ]
  },
  {
   "cell_type": "code",
   "execution_count": 37,
   "metadata": {},
   "outputs": [],
   "source": [
    "contacts['booked'] = contacts['ts_booking_at'].isnull().apply(lambda x: 0 if x==True else 1)"
   ]
  },
  {
   "cell_type": "code",
   "execution_count": 38,
   "metadata": {},
   "outputs": [
    {
     "data": {
      "image/png": "[encoded data removed]",
      "text/plain": [
       "<matplotlib.figure.Figure at 0x1a1f6c7c50>"
      ]
     },
     "metadata": {},
     "output_type": "display_data"
    }
   ],
   "source": [
    "sns.countplot(contacts['booked'])\n",
    "plt.show()"
   ]
  },
  {
   "cell_type": "code",
   "execution_count": 43,
   "metadata": {},
   "outputs": [],
   "source": [
    "#se crea una columna extra, se le asigna 1 si el usuario selecciono la opcion book_it\n",
    "contacts['logica_book_it']=contacts['dim_contact_channel_first'].apply(lambda x: 1 if x=='book_it' else 0)"
   ]
  },
  {
   "cell_type": "code",
   "execution_count": 44,
   "metadata": {},
   "outputs": [],
   "source": [
    "#operacion logica: si escogio book_it y realizo una reservacion, entonces 1\n",
    "contacts['book%book_it'] = contacts['logica_book_it'] * contacts['booked']"
   ]
  },
  {
   "cell_type": "code",
   "execution_count": 48,
   "metadata": {},
   "outputs": [],
   "source": [
    "# se crea un nuevo dataframe que contenga solo los usuarios que escogieron la opcion de book_it\n",
    "df_bookit = contacts[contacts['logica_book_it'] == 1]"
   ]
  },
  {
   "cell_type": "markdown",
   "metadata": {},
   "source": [
    "## A partir del nuevo df_bookit se grafica para conocer los usuarios \"book_it\" que resultaron en una reserva o booking"
   ]
  },
  {
   "cell_type": "code",
   "execution_count": 52,
   "metadata": {},
   "outputs": [
    {
     "data": {
      "image/png": "[encoded data removed]",
      "text/plain": [
       "<matplotlib.figure.Figure at 0x1a2003bd68>"
      ]
     },
     "metadata": {},
     "output_type": "display_data"
    }
   ],
   "source": [
    "sns.countplot(df_bookit['book%book_it'])\n",
    "plt.show()"
   ]
  },
  {
   "cell_type": "markdown",
   "metadata": {},
   "source": [
    "Desde el principio fue notable que la mayoria de usuarios utiliza la opción de book_it. Sin embargo, un poco menos de la mitad de los mismos realmente termina realizando una reserva."
   ]
  },
  {
   "cell_type": "markdown",
   "metadata": {},
   "source": [
    "### Número de usuarios con reserva hecha"
   ]
  },
  {
   "cell_type": "code",
   "execution_count": 66,
   "metadata": {},
   "outputs": [
    {
     "data": {
      "text/plain": [
       "id_guest_anon    13406\n",
       "dtype: int64"
      ]
     },
     "execution_count": 66,
     "metadata": {},
     "output_type": "execute_result"
    }
   ],
   "source": [
    "df_bookit[df_bookit['book%book_it'] == 1].count().head(1)"
   ]
  },
  {
   "cell_type": "markdown",
   "metadata": {},
   "source": [
    "### Número de usuarios sin reserva hecha"
   ]
  },
  {
   "cell_type": "code",
   "execution_count": 67,
   "metadata": {},
   "outputs": [
    {
     "data": {
      "text/plain": [
       "id_guest_anon    6452\n",
       "dtype: int64"
      ]
     },
     "execution_count": 67,
     "metadata": {},
     "output_type": "execute_result"
    }
   ],
   "source": [
    "df_bookit[df_bookit['book%book_it'] == 0].count().head(1)"
   ]
  },
  {
   "cell_type": "code",
   "execution_count": 72,
   "metadata": {},
   "outputs": [
    {
     "data": {
      "text/plain": [
       "'Porcentaje de usuarios que usan book_it pero no reservan: 48.13%'"
      ]
     },
     "execution_count": 72,
     "metadata": {},
     "output_type": "execute_result"
    }
   ],
   "source": [
    "noreservation = round((6452/13406)*100,2)\n",
    "f\"Porcentaje de usuarios que usan book_it pero no reservan: {noreservation}%\""
   ]
  },
  {
   "cell_type": "markdown",
   "metadata": {},
   "source": [
    "# A partir de este punto es mejor realizar una exploración de datos utilizando ML"
   ]
  },
  {
   "cell_type": "markdown",
   "metadata": {},
   "source": [
    "## Objetivos:\n",
    "1. Parametrizar la data para utilizarla en un modelo descriptivo y predictivo\n",
    "2. Conocer que tipo de interacciones u opciones resultan en bookings\n",
    "3. Analizar cuales variables tienen mayor peso a la hora de tomar la decisión de realizar el booking\n",
    "4. Descubrir insights que conlleven a que las interacciones del usuario resulten en bookings"
   ]
  },
  {
   "cell_type": "markdown",
   "metadata": {},
   "source": [
    "### Plan para explorar utilizando ML:\n",
    "  1. Utilizar random forest para realizar forescast de bookings\n",
    "  2. Luego de obtener los resultado de random forest se puede conocer cuales parametros o variables son más importantes a traves de la funcion: featureimportances\n"
   ]
  },
  {
   "cell_type": "code",
   "execution_count": 73,
   "metadata": {
    "collapsed": true
   },
   "outputs": [],
   "source": [
    "from sklearn.ensemble import RandomForestClassifier\n",
    "from sklearn.model_selection import train_test_split"
   ]
  },
  {
   "cell_type": "markdown",
   "metadata": {},
   "source": [
    "#### Estandarización de data y creación de nuevo dataframe para modelo RF"
   ]
  },
  {
   "cell_type": "markdown",
   "metadata": {},
   "source": [
    "Al principio de este documento se observo la información de los datos. A partir de ello, puede apreciarse que la fechas no se encuentran en formato DateTime. Por lo tanto, no puede realizarse operaciones de resta para conocer tiempos. Por ejemplo, el tiempo que pasa entre un inquiry del usuario y la respuesta dada por el host."
   ]
  },
  {
   "cell_type": "code",
   "execution_count": 74,
   "metadata": {
    "collapsed": true
   },
   "outputs": [],
   "source": [
    "#Transformacion de variables a tipo datetime\n",
    "contacts['ts_interaction_first'] = pd.to_datetime(contacts['ts_interaction_first'])\n",
    "contacts['ds_checkin_first'] = pd.to_datetime(contacts['ds_checkin_first'])\n",
    "contacts['ds_checkout_first'] = pd.to_datetime(contacts['ds_checkout_first'])\n",
    "contacts['ts_accepted_at_first'] = pd.to_datetime(contacts['ts_accepted_at_first'])\n",
    "contacts['ts_booking_at'] = pd.to_datetime(contacts['ts_booking_at'])\n",
    "contacts['ts_reply_at_first'] = pd.to_datetime(contacts['ts_reply_at_first'])"
   ]
  },
  {
   "cell_type": "code",
   "execution_count": 75,
   "metadata": {},
   "outputs": [
    {
     "name": "stdout",
     "output_type": "stream",
     "text": [
      "<class 'pandas.core.frame.DataFrame'>\n",
      "RangeIndex: 23143 entries, 0 to 23142\n",
      "Data columns (total 21 columns):\n",
      "id_guest_anon                           23143 non-null object\n",
      "id_host_anon                            23143 non-null object\n",
      "id_listing_anon                         23143 non-null object\n",
      "ts_interaction_first                    23143 non-null datetime64[ns]\n",
      "ts_reply_at_first                       21751 non-null datetime64[ns]\n",
      "ts_accepted_at_first                    16745 non-null datetime64[ns]\n",
      "ts_booking_at                           16691 non-null datetime64[ns]\n",
      "ds_checkin_first                        23143 non-null datetime64[ns]\n",
      "ds_checkout_first                       23143 non-null datetime64[ns]\n",
      "m_guests_first                          23106 non-null float64\n",
      "m_interactions                          23143 non-null int64\n",
      "m_first_message_length_in_characters    20917 non-null float64\n",
      "dim_contact_channel_first               23143 non-null object\n",
      "dim_room_type                           23143 non-null object\n",
      "dim_total_reviews                       23143 non-null int64\n",
      "dim_person_capacity                     23143 non-null int64\n",
      "dim_guest_language                      0 non-null float64\n",
      "dim_host_language                       23143 non-null object\n",
      "booked                                  23143 non-null int64\n",
      "logica_book_it                          23143 non-null int64\n",
      "book%book_it                            23143 non-null int64\n",
      "dtypes: datetime64[ns](6), float64(3), int64(6), object(6)\n",
      "memory usage: 3.7+ MB\n"
     ]
    }
   ],
   "source": [
    "contacts.info()"
   ]
  },
  {
   "cell_type": "markdown",
   "metadata": {},
   "source": [
    "Como se puede observar, el tipo de datos que involucran fechas ya ha sido cambiado"
   ]
  },
  {
   "cell_type": "markdown",
   "metadata": {},
   "source": [
    "## POR RAZONES DE TIEMPO PARA LA REALIZACION DE LA PRUEBA (EN MI CASO 2 DIAS) NO SE PUDO COMPLETAR EL ANALISIS UTILIZANDO RF Y SE PROCEDE A LA PREGUNTA 2."
   ]
  },
  {
   "cell_type": "markdown",
   "metadata": {},
   "source": [
    "# Evaluación del nuevo feature\n"
   ]
  },
  {
   "cell_type": "code",
   "execution_count": 80,
   "metadata": {},
   "outputs": [
    {
     "data": {
      "text/plain": [
       "Index(['id_guest_anon', 'id_host_anon', 'id_listing_anon',\n",
       "       'ts_interaction_first', 'ts_reply_at_first', 'ts_accepted_at_first',\n",
       "       'ts_booking_at', 'ds_checkin_first', 'ds_checkout_first',\n",
       "       'm_guests_first', 'm_interactions',\n",
       "       'm_first_message_length_in_characters', 'dim_contact_channel_first',\n",
       "       'dim_room_type', 'dim_total_reviews', 'dim_person_capacity',\n",
       "       'dim_guest_language', 'dim_host_language', 'booked', 'logica_book_it',\n",
       "       'book%book_it'],\n",
       "      dtype='object')"
      ]
     },
     "execution_count": 80,
     "metadata": {},
     "output_type": "execute_result"
    }
   ],
   "source": [
    "contacts.columns"
   ]
  },
  {
   "cell_type": "code",
   "execution_count": 81,
   "metadata": {},
   "outputs": [
    {
     "data": {
      "text/plain": [
       "Index(['id_user_anon', 'ab'], dtype='object')"
      ]
     },
     "execution_count": 81,
     "metadata": {},
     "output_type": "execute_result"
    }
   ],
   "source": [
    "assignments.columns"
   ]
  },
  {
   "cell_type": "code",
   "execution_count": 83,
   "metadata": {},
   "outputs": [
    {
     "data": {
      "text/plain": [
       "Index(['id_guest_anon', 'ab'], dtype='object')"
      ]
     },
     "execution_count": 83,
     "metadata": {},
     "output_type": "execute_result"
    }
   ],
   "source": [
    "#Se asume que id_user_anon y id_guest_anon corresponden al mismo usuario, por lo que se le cambia el nombre\n",
    "#al ID de assignments para ser igual al ID de contacts.\n",
    "assignments.columns = ['id_guest_anon','ab'] \n",
    "assignments.columns"
   ]
  },
  {
   "cell_type": "code",
   "execution_count": 102,
   "metadata": {
    "scrolled": true
   },
   "outputs": [
    {
     "data": {
      "text/html": [
       "<div>\n",
       "<style>\n",
       "    .dataframe thead tr:only-child th {\n",
       "        text-align: right;\n",
       "    }\n",
       "\n",
       "    .dataframe thead th {\n",
       "        text-align: left;\n",
       "    }\n",
       "\n",
       "    .dataframe tbody tr th {\n",
       "        vertical-align: top;\n",
       "    }\n",
       "</style>\n",
       "<table border=\"1\" class=\"dataframe\">\n",
       "  <thead>\n",
       "    <tr style=\"text-align: right;\">\n",
       "      <th></th>\n",
       "      <th>id_guest_anon</th>\n",
       "      <th>id_host_anon</th>\n",
       "      <th>id_listing_anon</th>\n",
       "      <th>ts_interaction_first</th>\n",
       "      <th>ts_reply_at_first</th>\n",
       "      <th>ts_accepted_at_first</th>\n",
       "      <th>ts_booking_at</th>\n",
       "      <th>ds_checkin_first</th>\n",
       "      <th>ds_checkout_first</th>\n",
       "      <th>m_guests_first</th>\n",
       "      <th>...</th>\n",
       "      <th>dim_contact_channel_first</th>\n",
       "      <th>dim_room_type</th>\n",
       "      <th>dim_total_reviews</th>\n",
       "      <th>dim_person_capacity</th>\n",
       "      <th>dim_guest_language</th>\n",
       "      <th>dim_host_language</th>\n",
       "      <th>booked</th>\n",
       "      <th>logica_book_it</th>\n",
       "      <th>book%book_it</th>\n",
       "      <th>ab</th>\n",
       "    </tr>\n",
       "  </thead>\n",
       "  <tbody>\n",
       "    <tr>\n",
       "      <th>0</th>\n",
       "      <td>56d70d7c-1d0a-4594-a250-ed62f7cf7ac4</td>\n",
       "      <td>65a56b50-faf2-44a2-845f-0c467f41d720</td>\n",
       "      <td>4deeb033-183e-437c-b94c-851ffee8cec8</td>\n",
       "      <td>2013-01-13 21:03:07</td>\n",
       "      <td>2013-01-14 21:19:42</td>\n",
       "      <td>2013-01-14 21:19:42</td>\n",
       "      <td>2013-01-14 21:19:42</td>\n",
       "      <td>2013-01-18</td>\n",
       "      <td>2013-01-20</td>\n",
       "      <td>2.0</td>\n",
       "      <td>...</td>\n",
       "      <td>book_it</td>\n",
       "      <td>Private room</td>\n",
       "      <td>78</td>\n",
       "      <td>2</td>\n",
       "      <td>NaN</td>\n",
       "      <td>es</td>\n",
       "      <td>1</td>\n",
       "      <td>1</td>\n",
       "      <td>1</td>\n",
       "      <td>control</td>\n",
       "    </tr>\n",
       "    <tr>\n",
       "      <th>1</th>\n",
       "      <td>dcfb93c4-07ca-41e8-b134-89b49ddc7a36</td>\n",
       "      <td>65a56b50-faf2-44a2-845f-0c467f41d720</td>\n",
       "      <td>4deeb033-183e-437c-b94c-851ffee8cec8</td>\n",
       "      <td>2013-01-15 23:43:49</td>\n",
       "      <td>2013-01-16 09:04:37</td>\n",
       "      <td>2013-01-16 09:04:37</td>\n",
       "      <td>2013-01-16 09:04:37</td>\n",
       "      <td>2013-01-23</td>\n",
       "      <td>2013-01-25</td>\n",
       "      <td>2.0</td>\n",
       "      <td>...</td>\n",
       "      <td>book_it</td>\n",
       "      <td>Private room</td>\n",
       "      <td>78</td>\n",
       "      <td>2</td>\n",
       "      <td>NaN</td>\n",
       "      <td>es</td>\n",
       "      <td>1</td>\n",
       "      <td>1</td>\n",
       "      <td>1</td>\n",
       "      <td>control</td>\n",
       "    </tr>\n",
       "    <tr>\n",
       "      <th>2</th>\n",
       "      <td>aef63ee0-7fd8-449f-867d-e710c39694e1</td>\n",
       "      <td>65a56b50-faf2-44a2-845f-0c467f41d720</td>\n",
       "      <td>4deeb033-183e-437c-b94c-851ffee8cec8</td>\n",
       "      <td>2013-03-19 21:30:13</td>\n",
       "      <td>2013-03-20 12:50:49</td>\n",
       "      <td>2013-03-20 12:50:49</td>\n",
       "      <td>2013-03-20 12:50:49</td>\n",
       "      <td>2013-05-31</td>\n",
       "      <td>2013-06-03</td>\n",
       "      <td>2.0</td>\n",
       "      <td>...</td>\n",
       "      <td>book_it</td>\n",
       "      <td>Private room</td>\n",
       "      <td>78</td>\n",
       "      <td>2</td>\n",
       "      <td>NaN</td>\n",
       "      <td>es</td>\n",
       "      <td>1</td>\n",
       "      <td>1</td>\n",
       "      <td>1</td>\n",
       "      <td>treatment</td>\n",
       "    </tr>\n",
       "    <tr>\n",
       "      <th>3</th>\n",
       "      <td>58788b6f-1215-40a5-8fb0-75d2e399880c</td>\n",
       "      <td>65a56b50-faf2-44a2-845f-0c467f41d720</td>\n",
       "      <td>4deeb033-183e-437c-b94c-851ffee8cec8</td>\n",
       "      <td>2013-01-03 16:32:01</td>\n",
       "      <td>2013-01-03 17:02:13</td>\n",
       "      <td>2013-01-03 17:02:53</td>\n",
       "      <td>2013-01-03 17:02:53</td>\n",
       "      <td>2013-02-09</td>\n",
       "      <td>2013-02-11</td>\n",
       "      <td>2.0</td>\n",
       "      <td>...</td>\n",
       "      <td>book_it</td>\n",
       "      <td>Private room</td>\n",
       "      <td>78</td>\n",
       "      <td>2</td>\n",
       "      <td>NaN</td>\n",
       "      <td>es</td>\n",
       "      <td>1</td>\n",
       "      <td>1</td>\n",
       "      <td>1</td>\n",
       "      <td>treatment</td>\n",
       "    </tr>\n",
       "    <tr>\n",
       "      <th>4</th>\n",
       "      <td>c3945c48-53b6-4e19-8bda-7d5b51d14ec1</td>\n",
       "      <td>65a56b50-faf2-44a2-845f-0c467f41d720</td>\n",
       "      <td>4deeb033-183e-437c-b94c-851ffee8cec8</td>\n",
       "      <td>2013-04-13 04:31:33</td>\n",
       "      <td>2013-04-13 16:43:53</td>\n",
       "      <td>2013-04-13 16:44:20</td>\n",
       "      <td>2013-04-13 16:44:20</td>\n",
       "      <td>2013-06-06</td>\n",
       "      <td>2013-06-08</td>\n",
       "      <td>2.0</td>\n",
       "      <td>...</td>\n",
       "      <td>book_it</td>\n",
       "      <td>Private room</td>\n",
       "      <td>78</td>\n",
       "      <td>2</td>\n",
       "      <td>NaN</td>\n",
       "      <td>es</td>\n",
       "      <td>1</td>\n",
       "      <td>1</td>\n",
       "      <td>1</td>\n",
       "      <td>treatment</td>\n",
       "    </tr>\n",
       "  </tbody>\n",
       "</table>\n",
       "<p>5 rows × 22 columns</p>\n",
       "</div>"
      ],
      "text/plain": [
       "                          id_guest_anon                          id_host_anon  \\\n",
       "0  56d70d7c-1d0a-4594-a250-ed62f7cf7ac4  65a56b50-faf2-44a2-845f-0c467f41d720   \n",
       "1  dcfb93c4-07ca-41e8-b134-89b49ddc7a36  65a56b50-faf2-44a2-845f-0c467f41d720   \n",
       "2  aef63ee0-7fd8-449f-867d-e710c39694e1  65a56b50-faf2-44a2-845f-0c467f41d720   \n",
       "3  58788b6f-1215-40a5-8fb0-75d2e399880c  65a56b50-faf2-44a2-845f-0c467f41d720   \n",
       "4  c3945c48-53b6-4e19-8bda-7d5b51d14ec1  65a56b50-faf2-44a2-845f-0c467f41d720   \n",
       "\n",
       "                        id_listing_anon ts_interaction_first  \\\n",
       "0  4deeb033-183e-437c-b94c-851ffee8cec8  2013-01-13 21:03:07   \n",
       "1  4deeb033-183e-437c-b94c-851ffee8cec8  2013-01-15 23:43:49   \n",
       "2  4deeb033-183e-437c-b94c-851ffee8cec8  2013-03-19 21:30:13   \n",
       "3  4deeb033-183e-437c-b94c-851ffee8cec8  2013-01-03 16:32:01   \n",
       "4  4deeb033-183e-437c-b94c-851ffee8cec8  2013-04-13 04:31:33   \n",
       "\n",
       "    ts_reply_at_first ts_accepted_at_first       ts_booking_at  \\\n",
       "0 2013-01-14 21:19:42  2013-01-14 21:19:42 2013-01-14 21:19:42   \n",
       "1 2013-01-16 09:04:37  2013-01-16 09:04:37 2013-01-16 09:04:37   \n",
       "2 2013-03-20 12:50:49  2013-03-20 12:50:49 2013-03-20 12:50:49   \n",
       "3 2013-01-03 17:02:13  2013-01-03 17:02:53 2013-01-03 17:02:53   \n",
       "4 2013-04-13 16:43:53  2013-04-13 16:44:20 2013-04-13 16:44:20   \n",
       "\n",
       "  ds_checkin_first ds_checkout_first  m_guests_first    ...      \\\n",
       "0       2013-01-18        2013-01-20             2.0    ...       \n",
       "1       2013-01-23        2013-01-25             2.0    ...       \n",
       "2       2013-05-31        2013-06-03             2.0    ...       \n",
       "3       2013-02-09        2013-02-11             2.0    ...       \n",
       "4       2013-06-06        2013-06-08             2.0    ...       \n",
       "\n",
       "   dim_contact_channel_first  dim_room_type dim_total_reviews  \\\n",
       "0                    book_it   Private room                78   \n",
       "1                    book_it   Private room                78   \n",
       "2                    book_it   Private room                78   \n",
       "3                    book_it   Private room                78   \n",
       "4                    book_it   Private room                78   \n",
       "\n",
       "  dim_person_capacity  dim_guest_language  dim_host_language  booked  \\\n",
       "0                   2                 NaN                 es       1   \n",
       "1                   2                 NaN                 es       1   \n",
       "2                   2                 NaN                 es       1   \n",
       "3                   2                 NaN                 es       1   \n",
       "4                   2                 NaN                 es       1   \n",
       "\n",
       "  logica_book_it  book%book_it         ab  \n",
       "0              1             1    control  \n",
       "1              1             1    control  \n",
       "2              1             1  treatment  \n",
       "3              1             1  treatment  \n",
       "4              1             1  treatment  \n",
       "\n",
       "[5 rows x 22 columns]"
      ]
     },
     "execution_count": 102,
     "metadata": {},
     "output_type": "execute_result"
    }
   ],
   "source": [
    "#se unen ambas tablas a traves de un merge\n",
    "df_unido = contacts.merge(assignments, on=['id_guest_anon'], how = 'left')\n",
    "df_unido.head()"
   ]
  },
  {
   "cell_type": "code",
   "execution_count": 93,
   "metadata": {},
   "outputs": [
    {
     "data": {
      "image/png": "[encoded data removed]",
      "text/plain": [
       "<matplotlib.figure.Figure at 0x1a21252240>"
      ]
     },
     "metadata": {},
     "output_type": "display_data"
    }
   ],
   "source": [
    "#Grafico para comprobar contidad de usuarios en control y treatment\n",
    "sns.countplot(df_unido['ab'])\n",
    "plt.show()"
   ]
  },
  {
   "cell_type": "markdown",
   "metadata": {},
   "source": [
    "Se puede apreciar facilmente que los usuarios fueron divididos 50% y 50% para la aplicación del nuevo feature"
   ]
  },
  {
   "cell_type": "code",
   "execution_count": 94,
   "metadata": {},
   "outputs": [
    {
     "data": {
      "text/html": [
       "<div>\n",
       "<style>\n",
       "    .dataframe thead tr:only-child th {\n",
       "        text-align: right;\n",
       "    }\n",
       "\n",
       "    .dataframe thead th {\n",
       "        text-align: left;\n",
       "    }\n",
       "\n",
       "    .dataframe tbody tr th {\n",
       "        vertical-align: top;\n",
       "    }\n",
       "</style>\n",
       "<table border=\"1\" class=\"dataframe\">\n",
       "  <thead>\n",
       "    <tr style=\"text-align: right;\">\n",
       "      <th></th>\n",
       "      <th>booked</th>\n",
       "    </tr>\n",
       "    <tr>\n",
       "      <th>ab</th>\n",
       "      <th></th>\n",
       "    </tr>\n",
       "  </thead>\n",
       "  <tbody>\n",
       "    <tr>\n",
       "      <th>control</th>\n",
       "      <td>8368.0</td>\n",
       "    </tr>\n",
       "    <tr>\n",
       "      <th>treatment</th>\n",
       "      <td>8323.0</td>\n",
       "    </tr>\n",
       "  </tbody>\n",
       "</table>\n",
       "</div>"
      ],
      "text/plain": [
       "           booked\n",
       "ab               \n",
       "control    8368.0\n",
       "treatment  8323.0"
      ]
     },
     "execution_count": 94,
     "metadata": {},
     "output_type": "execute_result"
    }
   ],
   "source": [
    "#Suma de usuarios que reservaron segun feature\n",
    "control = df_unido[['booked','ab']].groupby('ab').sum()\n",
    "control"
   ]
  },
  {
   "cell_type": "code",
   "execution_count": 95,
   "metadata": {},
   "outputs": [
    {
     "data": {
      "text/plain": [
       "id_guest_anon    12771\n",
       "dtype: int64"
      ]
     },
     "execution_count": 95,
     "metadata": {},
     "output_type": "execute_result"
    }
   ],
   "source": [
    "df_unido[df_unido['ab'] == 'control'].count().head(1)"
   ]
  },
  {
   "cell_type": "code",
   "execution_count": 100,
   "metadata": {},
   "outputs": [
    {
     "data": {
      "text/plain": [
       "'El porcentaje de usuarios que estuvieron bajo control y reservaron es de 65.52%'"
      ]
     },
     "execution_count": 100,
     "metadata": {},
     "output_type": "execute_result"
    }
   ],
   "source": [
    "porcentaje_control = round((8368/12771)*100,2)\n",
    "f\"El porcentaje de usuarios que estuvieron bajo control y reservaron es de {porcentaje_control}%\""
   ]
  },
  {
   "cell_type": "code",
   "execution_count": 103,
   "metadata": {},
   "outputs": [
    {
     "data": {
      "text/plain": [
       "'El porcentaje de usuarios que no estuvieron bajo control y reservaron es de 65.17%'"
      ]
     },
     "execution_count": 103,
     "metadata": {},
     "output_type": "execute_result"
    }
   ],
   "source": [
    "porcentaje_treatment = round((8323.0/12771)*100,2)\n",
    "f\"El porcentaje de usuarios que no estuvieron bajo control y reservaron es de {porcentaje_treatment}%\""
   ]
  },
  {
   "cell_type": "markdown",
   "metadata": {},
   "source": [
    "## Conclusiones de nuevo feature:\n",
    "    1.Si se evalua con respecto a la conversión del feature en una reserva, es notorio que no tiene mayor efecto. Esto puede apreciarse en los porcentajes presentados anteriormente, en ambos casos el porcentaje de reserva es aproximadamente 65%\n",
    "    2. El feature puede ser util si se desea evaluar las caracteristicas que resaltan de cada host para que luego ellos puedan tomar en cuenta dicha información para mercadear mejor su oferta en el sitio."
   ]
  }
 ],
 "metadata": {
  "kernelspec": {
   "display_name": "Python 3",
   "language": "python",
   "name": "python3"
  },
  "language_info": {
   "codemirror_mode": {
    "name": "ipython",
    "version": 3
   },
   "file_extension": ".py",
   "mimetype": "text/x-python",
   "name": "python",
   "nbconvert_exporter": "python",
   "pygments_lexer": "ipython3",
   "version": "3.6.3"
  }
 },
 "nbformat": 4,
 "nbformat_minor": 2
}
